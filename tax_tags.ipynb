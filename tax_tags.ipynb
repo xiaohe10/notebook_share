{
 "cells": [
  {
   "cell_type": "code",
   "execution_count": 1,
   "metadata": {
    "collapsed": true
   },
   "outputs": [],
   "source": [
    "import numpy as np\n",
    "import pandas as pd\n",
    "import codecs\n",
    "import jieba\n",
    "from sklearn.feature_extraction.text import TfidfVectorizer\n",
    "import re"
   ]
  },
  {
   "cell_type": "code",
   "execution_count": 2,
   "metadata": {},
   "outputs": [
    {
     "data": {
      "text/html": [
       "<div>\n",
       "<style>\n",
       "    .dataframe thead tr:only-child th {\n",
       "        text-align: right;\n",
       "    }\n",
       "\n",
       "    .dataframe thead th {\n",
       "        text-align: left;\n",
       "    }\n",
       "\n",
       "    .dataframe tbody tr th {\n",
       "        vertical-align: top;\n",
       "    }\n",
       "</style>\n",
       "<table border=\"1\" class=\"dataframe\">\n",
       "  <thead>\n",
       "    <tr style=\"text-align: right;\">\n",
       "      <th></th>\n",
       "      <th>标签ID</th>\n",
       "      <th>标签</th>\n",
       "      <th>数据样本</th>\n",
       "      <th>税额</th>\n",
       "      <th>数量</th>\n",
       "      <th>加和</th>\n",
       "    </tr>\n",
       "  </thead>\n",
       "  <tbody>\n",
       "    <tr>\n",
       "      <th>0</th>\n",
       "      <td>3070402000000000000</td>\n",
       "      <td>住宿服务</td>\n",
       "      <td>住宿费</td>\n",
       "      <td>37,893</td>\n",
       "      <td>226</td>\n",
       "      <td>NaN</td>\n",
       "    </tr>\n",
       "    <tr>\n",
       "      <th>1</th>\n",
       "      <td>3070402000000000000</td>\n",
       "      <td>住宿服务</td>\n",
       "      <td>住宿服务</td>\n",
       "      <td>7,420</td>\n",
       "      <td>43</td>\n",
       "      <td>NaN</td>\n",
       "    </tr>\n",
       "    <tr>\n",
       "      <th>2</th>\n",
       "      <td>3070402000000000000</td>\n",
       "      <td>住宿服务</td>\n",
       "      <td>房费</td>\n",
       "      <td>3,454</td>\n",
       "      <td>38</td>\n",
       "      <td>NaN</td>\n",
       "    </tr>\n",
       "    <tr>\n",
       "      <th>3</th>\n",
       "      <td>3070402000000000000</td>\n",
       "      <td>住宿服务</td>\n",
       "      <td>住宿</td>\n",
       "      <td>2,388</td>\n",
       "      <td>12</td>\n",
       "      <td>NaN</td>\n",
       "    </tr>\n",
       "    <tr>\n",
       "      <th>4</th>\n",
       "      <td>3070402000000000000</td>\n",
       "      <td>住宿服务</td>\n",
       "      <td>代订房费</td>\n",
       "      <td>272</td>\n",
       "      <td>2</td>\n",
       "      <td>NaN</td>\n",
       "    </tr>\n",
       "  </tbody>\n",
       "</table>\n",
       "</div>"
      ],
      "text/plain": [
       "                  标签ID    标签  数据样本       税额    数量   加和\n",
       "0  3070402000000000000  住宿服务   住宿费  37,893   226   NaN\n",
       "1  3070402000000000000  住宿服务  住宿服务   7,420    43   NaN\n",
       "2  3070402000000000000  住宿服务    房费   3,454    38   NaN\n",
       "3  3070402000000000000  住宿服务    住宿   2,388    12   NaN\n",
       "4  3070402000000000000  住宿服务  代订房费     272     2   NaN"
      ]
     },
     "execution_count": 2,
     "metadata": {},
     "output_type": "execute_result"
    }
   ],
   "source": [
    "# 1. 数据导入和预览\n",
    "data = pd.read_csv('yuze_train.csv')\n",
    "data.head()"
   ]
  },
  {
   "cell_type": "code",
   "execution_count": 3,
   "metadata": {
    "scrolled": false
   },
   "outputs": [
    {
     "name": "stdout",
     "output_type": "stream",
     "text": [
      "sample from other  73\n"
     ]
    },
    {
     "data": {
      "text/plain": [
       "文具及类似用品       312\n",
       "电子计算机及其部件     300\n",
       "企业管理服务        183\n",
       "通信终端设备及零部件     96\n",
       "物业管理服务         94\n",
       "其他             73\n",
       "卫生用纸制品         73\n",
       "鉴证咨询服务         73\n",
       "售电             65\n",
       "车用油            60\n",
       "工商用制冷、空调设备     52\n",
       "日用杂品           45\n",
       "增值电信服务         43\n",
       "交通运输服务         43\n",
       "通信终端设备         20\n",
       "体育用品           18\n",
       "热力生产及供热        17\n",
       "水              15\n",
       "玩具             10\n",
       "人力资源服务          9\n",
       "住宿服务            9\n",
       "其他燃气            8\n",
       "Name: 标签, dtype: int64"
      ]
     },
     "execution_count": 3,
     "metadata": {},
     "output_type": "execute_result"
    }
   ],
   "source": [
    "# 2. 从“其他” 类别里面随机选取 n 个数据，n设置为 正常标签的平均数\n",
    "# 最后打印 每个类别的个数\n",
    "\n",
    "other_sample = int(np.mean(data[data['标签'] != '其他']['标签'].value_counts()))\n",
    "print('sample from other ',other_sample)\n",
    "other_sample_data = data[data['标签'] == '其他'].sample(other_sample)\n",
    "frames = [data[data['标签'] != '其他'], other_sample_data]\n",
    "new_data = pd.concat(frames)\n",
    "new_data['标签'].value_counts()"
   ]
  },
  {
   "cell_type": "code",
   "execution_count": 4,
   "metadata": {},
   "outputs": [
    {
     "name": "stdout",
     "output_type": "stream",
     "text": [
      "min_df 1 max_df 1.0 ngram\n"
     ]
    }
   ],
   "source": [
    "# 3. 提取 tf-idf 向量\n",
    "# analyzer = 'word' 以分词级别，'char'以字符级别\n",
    "\n",
    "# analyzer = 'word'\n",
    "analyzer = 'char'\n",
    "\n",
    "min_df = 1\n",
    "max_df = 1.0\n",
    "ngram = 1\n",
    "\n",
    "print('min_df {} max_df {} ngram'.format(min_df,max_df,ngram))\n",
    "\n",
    "def tokenizer(s):\n",
    "    s = re.sub(\"[\\s\\.\\!\\/_,$%^*(+\\\"\\'\\]\\|\\[—！，。“”？\\?;:\\(\\)、~@#￥%……&*（）=《》「」]+\", \" \",s)\n",
    "    words = jieba.cut(s)\n",
    "    tokens = []\n",
    "    for word in words:\n",
    "        if(word == ' '):continue\n",
    "        tokens.append(word)\n",
    "    return tokens\n",
    "vectorizer = TfidfVectorizer(ngram_range=(1,ngram),tokenizer = tokenizer,analyzer=analyzer,\n",
    "               min_df=min_df, max_df = max_df, strip_accents='unicode', use_idf=1,\n",
    "               smooth_idf=1, sublinear_tf=False,norm ='l2',\n",
    "                stop_words=None)\n",
    "\n",
    "text = new_data['数据样本']\n",
    "\n",
    "tfidf_doc = vectorizer.fit_transform(text.values.astype('str'))"
   ]
  },
  {
   "cell_type": "code",
   "execution_count": 5,
   "metadata": {
    "scrolled": false
   },
   "outputs": [
    {
     "name": "stdout",
     "output_type": "stream",
     "text": [
      "--------------\n",
      "住宿费\n",
      "住宿服务\n",
      "住 0.688580325806\n",
      "宿 0.688580325806\n",
      "费 0.227407717164\n",
      "--------------\n",
      "住宿服务\n",
      "住宿服务\n",
      "住 0.643100158106\n",
      "宿 0.643100158106\n",
      "服 0.298902665351\n",
      "务 0.288966382012\n"
     ]
    }
   ],
   "source": [
    "# 预览一些tf-idf向量的结果\n",
    "\n",
    "feature_names = vectorizer.get_feature_names()\n",
    "import operator\n",
    "for doc in range(0,2):\n",
    "    print('--------------')\n",
    "    print(new_data['数据样本'].iloc[doc])\n",
    "    print(new_data['标签'].iloc[doc])\n",
    "    feature_index = tfidf_doc[doc,:].nonzero()[1]\n",
    "    tfidf_scores = zip(feature_index, [tfidf_doc[doc, x] for x in feature_index])\n",
    "    tfidf_scores = sorted(tfidf_scores, key=operator.itemgetter(1),reverse=True)\n",
    "    for w, s in [(feature_names[i], s) for (i, s) in tfidf_scores]:\n",
    "        print(w, s)"
   ]
  },
  {
   "cell_type": "code",
   "execution_count": 6,
   "metadata": {},
   "outputs": [],
   "source": [
    "# 4.将标签转化为 0,1,2..n 的方式\n",
    "\n",
    "all_labels = []\n",
    "label_map = {}\n",
    "label_id_map = {}\n",
    "label_count = 0\n",
    "for label in new_data['标签']:\n",
    "    if(label in label_map):\n",
    "        all_labels.append(label_map[label])\n",
    "    else:\n",
    "        label_map[label] = label_count\n",
    "        label_id_map[label_count] = label\n",
    "        label_count += 1\n",
    "        all_labels.append(label_map[label])\n",
    "all_labels = np.array(all_labels)"
   ]
  },
  {
   "cell_type": "code",
   "execution_count": 7,
   "metadata": {
    "scrolled": true
   },
   "outputs": [
    {
     "name": "stdout",
     "output_type": "stream",
     "text": [
      "正确率 0.901234567901\n",
      "正确率 0.842592592593\n",
      "正确率 0.885802469136\n",
      "正确率 0.885448916409\n",
      "正确率 0.891640866873\n"
     ]
    }
   ],
   "source": [
    "# 5. 训练过程\n",
    "# 可以选择 svm.LinearSVC()， 或者 MultinomialNB\n",
    "# 可以选择是否打印预测结果 is_print \n",
    "is_print = False\n",
    "\n",
    "from sklearn.naive_bayes import MultinomialNB\n",
    "from sklearn import svm\n",
    "from sklearn.model_selection import KFold\n",
    "kf = KFold(n_splits=5, random_state=12, shuffle=True)\n",
    "for train_index, test_index in kf.split(new_data):\n",
    "    train_x = tfidf_doc[train_index]\n",
    "    train_y = all_labels[train_index]\n",
    "\n",
    "#     clf = MultinomialNB()\n",
    "    clf = svm.LinearSVC()\n",
    "    clf.fit(train_x, train_y)\n",
    "    \n",
    "    test_x = tfidf_doc[test_index]\n",
    "    test_y = all_labels[test_index]\n",
    "    test_text = new_data['数据样本'][test_index]\n",
    "    \n",
    "    \n",
    "    print('正确率', clf.score(test_x, test_y))\n",
    "    if(is_print):\n",
    "        print(label_id_map)\n",
    "        for idx,label in enumerate(clf.predict(test_x)):\n",
    "            print('\\t'.join([str(test_text.iloc[idx]), label_id_map[label], \n",
    "                  label_id_map[test_y[idx]]]))\n",
    "        break"
   ]
  },
  {
   "cell_type": "code",
   "execution_count": null,
   "metadata": {
    "collapsed": true
   },
   "outputs": [],
   "source": []
  }
 ],
 "metadata": {
  "kernelspec": {
   "display_name": "Python 3",
   "language": "python",
   "name": "python3"
  },
  "language_info": {
   "codemirror_mode": {
    "name": "ipython",
    "version": 3
   },
   "file_extension": ".py",
   "mimetype": "text/x-python",
   "name": "python",
   "nbconvert_exporter": "python",
   "pygments_lexer": "ipython3",
   "version": "3.6.2"
  }
 },
 "nbformat": 4,
 "nbformat_minor": 2
}
